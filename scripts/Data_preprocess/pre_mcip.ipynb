{
 "cells": [
  {
   "attachments": {},
   "cell_type": "markdown",
   "metadata": {},
   "source": [
    "# 毕业论文`GRAD`\n",
    "## `MCIP`结果预处理\n",
    "\n",
    "---\n",
    "*@author: Evan*\\\n",
    "*@date: 2023-10-31*"
   ]
  },
  {
   "cell_type": "code",
   "execution_count": 4,
   "metadata": {},
   "outputs": [],
   "source": [
    "import numpy as np\n",
    "\n",
    "import sys\n",
    "sys.path.append('../../src/')\n",
    "from preprocess import process_mcip\n",
    "\n",
    "# silence the warning note\n",
    "import warnings\n",
    "warnings.filterwarnings(\"ignore\")"
   ]
  },
  {
   "cell_type": "code",
   "execution_count": 5,
   "metadata": {},
   "outputs": [],
   "source": [
    "# set time range\n",
    "years = np.array([2014,2015,2016,2019,2021,2022])\n",
    "months = ['Sep','Jul']"
   ]
  },
  {
   "cell_type": "code",
   "execution_count": 6,
   "metadata": {},
   "outputs": [
    {
     "name": "stdout",
     "output_type": "stream",
     "text": [
      "Processing MCIP for [ Sep, 2014 ]\n",
      "Calculating RH ...\n",
      "Creating dataset ...\n",
      "Export compressed file ...\n",
      "Completed!\n",
      "==========\n",
      "Processing MCIP for [ Sep, 2015 ]\n",
      "Calculating RH ...\n",
      "Creating dataset ...\n",
      "Export compressed file ...\n",
      "Completed!\n",
      "==========\n",
      "Processing MCIP for [ Sep, 2016 ]\n",
      "Calculating RH ...\n",
      "Creating dataset ...\n",
      "Export compressed file ...\n",
      "Completed!\n",
      "==========\n",
      "Processing MCIP for [ Sep, 2019 ]\n",
      "Calculating RH ...\n",
      "Creating dataset ...\n",
      "Export compressed file ...\n",
      "Completed!\n",
      "==========\n",
      "Processing MCIP for [ Sep, 2021 ]\n",
      "Calculating RH ...\n",
      "Creating dataset ...\n",
      "Export compressed file ...\n",
      "Completed!\n",
      "==========\n",
      "Processing MCIP for [ Sep, 2022 ]\n",
      "Calculating RH ...\n",
      "Creating dataset ...\n",
      "Export compressed file ...\n",
      "Completed!\n",
      "==========\n",
      "Processing MCIP for [ Jul, 2014 ]\n",
      "Calculating RH ...\n",
      "Creating dataset ...\n",
      "Export compressed file ...\n",
      "Completed!\n",
      "==========\n",
      "Processing MCIP for [ Jul, 2015 ]\n",
      "Calculating RH ...\n",
      "Creating dataset ...\n",
      "Export compressed file ...\n",
      "Completed!\n",
      "==========\n",
      "Processing MCIP for [ Jul, 2016 ]\n",
      "Calculating RH ...\n",
      "Creating dataset ...\n",
      "Export compressed file ...\n",
      "Completed!\n",
      "==========\n",
      "Processing MCIP for [ Jul, 2019 ]\n",
      "Calculating RH ...\n",
      "Creating dataset ...\n",
      "Export compressed file ...\n",
      "Completed!\n",
      "==========\n",
      "Processing MCIP for [ Jul, 2021 ]\n",
      "Calculating RH ...\n",
      "Creating dataset ...\n",
      "Export compressed file ...\n",
      "Completed!\n",
      "==========\n",
      "Processing MCIP for [ Jul, 2022 ]\n",
      "Calculating RH ...\n",
      "Creating dataset ...\n",
      "Export compressed file ...\n",
      "Completed!\n",
      "==========\n"
     ]
    }
   ],
   "source": [
    "for month in months:\n",
    "    for year in years:\n",
    "        process_mcip(year,month)"
   ]
  },
  {
   "cell_type": "markdown",
   "metadata": {},
   "source": [
    "# 处理Sep_2015数据\n",
    "* 检查发现2015年9月MCIP数据存在问题\n",
    "  * 2015-09-24 07:00(TSTEP=560)(本地时)数据异常大\n",
    "  * COMBINE中该时刻(TSTEP=576)(世界时)数据异常大\n",
    "  * MCIP中的该时刻数据缺失\n",
    "* 根本原因在MCIP未运行完成"
   ]
  },
  {
   "cell_type": "code",
   "execution_count": 2,
   "metadata": {},
   "outputs": [
    {
     "name": "stdout",
     "output_type": "stream",
     "text": [
      "Processing MCIP for [ Sep, 2015 ]\n",
      "Calculating RH ...\n",
      "Creating dataset ...\n",
      "Export compressed file ...\n",
      "Completed!\n",
      "==========\n"
     ]
    }
   ],
   "source": [
    "year = 2015\n",
    "month = \"Sep\"\n",
    "\n",
    "process_mcip(year,month)"
   ]
  }
 ],
 "metadata": {
  "kernelspec": {
   "display_name": "base",
   "language": "python",
   "name": "python3"
  },
  "language_info": {
   "codemirror_mode": {
    "name": "ipython",
    "version": 3
   },
   "file_extension": ".py",
   "mimetype": "text/x-python",
   "name": "python",
   "nbconvert_exporter": "python",
   "pygments_lexer": "ipython3",
   "version": "3.10.12"
  },
  "orig_nbformat": 4
 },
 "nbformat": 4,
 "nbformat_minor": 2
}
