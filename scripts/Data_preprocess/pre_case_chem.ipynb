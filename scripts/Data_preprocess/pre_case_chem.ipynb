{
 "cells": [
  {
   "attachments": {},
   "cell_type": "markdown",
   "metadata": {},
   "source": [
    "# 毕业论文`GRAD`\n",
    "## `CMAQ`结果预处理\n",
    "\n",
    "---\n",
    "*@author: Evan*\\\n",
    "*@date: 2023-12-14*"
   ]
  },
  {
   "cell_type": "code",
   "execution_count": 1,
   "metadata": {},
   "outputs": [],
   "source": [
    "import numpy as np\n",
    "\n",
    "import sys\n",
    "sys.path.append('../../src/')\n",
    "from preprocess import process_case_chem\n",
    "\n",
    "# silence the warning note\n",
    "import warnings\n",
    "warnings.filterwarnings(\"ignore\")"
   ]
  },
  {
   "cell_type": "code",
   "execution_count": 2,
   "metadata": {},
   "outputs": [
    {
     "name": "stdout",
     "output_type": "stream",
     "text": [
      "Processing CMAQ for [ Seasonally, Sep, 2019 ]\n",
      "Calculating Height ...\n",
      "Creating dataset ...\n",
      "Export compressed file ...\n",
      "Completed!\n",
      "==========\n",
      "Processing CMAQ for [ Seasonally, Sep, 2021 ]\n",
      "Calculating Height ...\n",
      "Creating dataset ...\n",
      "Export compressed file ...\n",
      "Completed!\n",
      "==========\n",
      "Processing CMAQ for [ Seasonally, Sep, 2022 ]\n",
      "Calculating Height ...\n",
      "Creating dataset ...\n",
      "Export compressed file ...\n",
      "Completed!\n",
      "==========\n"
     ]
    }
   ],
   "source": [
    "case = 2 # 1 = Annually, 2 = Seasonally\n",
    "years = np.array([2019,2021,2022])\n",
    "month = 'Sep'\n",
    "\n",
    "for year in years:\n",
    "    process_case_chem(case, year, month)"
   ]
  }
 ],
 "metadata": {
  "kernelspec": {
   "display_name": "base",
   "language": "python",
   "name": "python3"
  },
  "language_info": {
   "codemirror_mode": {
    "name": "ipython",
    "version": 3
   },
   "file_extension": ".py",
   "mimetype": "text/x-python",
   "name": "python",
   "nbconvert_exporter": "python",
   "pygments_lexer": "ipython3",
   "version": "3.10.12"
  },
  "orig_nbformat": 4
 },
 "nbformat": 4,
 "nbformat_minor": 2
}
