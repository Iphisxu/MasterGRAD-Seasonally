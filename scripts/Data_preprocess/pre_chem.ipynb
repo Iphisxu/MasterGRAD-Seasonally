{
 "cells": [
  {
   "attachments": {},
   "cell_type": "markdown",
   "metadata": {},
   "source": [
    "# 毕业论文`GRAD`\n",
    "## `CMAQ`结果预处理\n",
    "\n",
    "---\n",
    "*@author: Evan*\\\n",
    "*@date: 2023-11-09*"
   ]
  },
  {
   "cell_type": "code",
   "execution_count": 1,
   "metadata": {},
   "outputs": [],
   "source": [
    "import numpy as np\n",
    "\n",
    "import sys\n",
    "sys.path.append('../../src/')\n",
    "from preprocess import process_chem\n",
    "\n",
    "# silence the warning note\n",
    "import warnings\n",
    "warnings.filterwarnings(\"ignore\")"
   ]
  },
  {
   "cell_type": "code",
   "execution_count": 2,
   "metadata": {},
   "outputs": [],
   "source": [
    "# set time range\n",
    "years = np.array([2014,2015,2016,2019,2021,2022])\n",
    "months = ['Sep','Jul']"
   ]
  },
  {
   "cell_type": "code",
   "execution_count": 2,
   "metadata": {},
   "outputs": [
    {
     "name": "stdout",
     "output_type": "stream",
     "text": [
      "Processing CMAQ for [ Jul, 2019 ]\n",
      "Calculating Height ...\n",
      "Creating dataset ...\n",
      "Export compressed file ...\n",
      "Completed!\n",
      "==========\n",
      "Processing CMAQ for [ Jul, 2021 ]\n",
      "Calculating Height ...\n",
      "Creating dataset ...\n",
      "Export compressed file ...\n",
      "Completed!\n",
      "==========\n",
      "Processing CMAQ for [ Jul, 2022 ]\n",
      "Calculating Height ...\n",
      "Creating dataset ...\n",
      "Export compressed file ...\n",
      "Completed!\n",
      "==========\n"
     ]
    }
   ],
   "source": [
    "years = np.array([2019,2021,2022])\n",
    "months = ['Jul',]\n",
    "\n",
    "for month in months:\n",
    "    for year in years:\n",
    "        process_chem(year,month)"
   ]
  }
 ],
 "metadata": {
  "kernelspec": {
   "display_name": "base",
   "language": "python",
   "name": "python3"
  },
  "language_info": {
   "codemirror_mode": {
    "name": "ipython",
    "version": 3
   },
   "file_extension": ".py",
   "mimetype": "text/x-python",
   "name": "python",
   "nbconvert_exporter": "python",
   "pygments_lexer": "ipython3",
   "version": "3.10.12"
  },
  "orig_nbformat": 4
 },
 "nbformat": 4,
 "nbformat_minor": 2
}
