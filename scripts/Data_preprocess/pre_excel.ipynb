{
 "cells": [
  {
   "cell_type": "markdown",
   "metadata": {},
   "source": [
    "# 毕业论文`GRAD`\n",
    "## 将netcdf数据整合提取到excel表中\n",
    "\n",
    "*`Evan`*\\\n",
    "*`2023-12-21`*\n",
    "---"
   ]
  },
  {
   "cell_type": "code",
   "execution_count": 1,
   "metadata": {},
   "outputs": [],
   "source": [
    "import numpy as np\n",
    "import pandas as pd\n",
    "import xarray as xr\n",
    "\n",
    "import sys\n",
    "sys.path.append('../../src/')\n",
    "from namelist import *\n",
    "from nc_to_excel import write_to_excel, write_obs_to_excel\n",
    "\n",
    "# silence the warning note\n",
    "import warnings\n",
    "warnings.filterwarnings(\"ignore\")"
   ]
  },
  {
   "cell_type": "markdown",
   "metadata": {},
   "source": [
    "## 模拟数据"
   ]
  },
  {
   "cell_type": "code",
   "execution_count": 2,
   "metadata": {},
   "outputs": [],
   "source": [
    "years   = [2019,2021,2022]\n",
    "month   = 'Jul'\n",
    "level   = 1000 # hPa\n",
    "regions = ['PRD','Zhaoqing','Huizhou','Guangzhou','Foshan',\n",
    "           'Dongguan','Shenzhen','Zhongshan','Jiangmen',\n",
    "           'Zhuhai']\n",
    "\n",
    "mcip_vars = ['SFC_TMP','SOL_RAD','QV','PRES','uwind','vwind',\n",
    "            'WSPD10','WDIR10','PBLH','CloudFRAC']\n",
    "chem_vars = ['O3','NO2','VOC','PM25','ISOP']"
   ]
  },
  {
   "cell_type": "code",
   "execution_count": 3,
   "metadata": {},
   "outputs": [],
   "source": [
    "regions = ['PRD_merge']"
   ]
  },
  {
   "cell_type": "code",
   "execution_count": 4,
   "metadata": {},
   "outputs": [
    {
     "name": "stdout",
     "output_type": "stream",
     "text": [
      "===========PRD_merge===========\n",
      "|         2019         |\n",
      "Processing data in Jul, 2019\n",
      "|         2021         |\n",
      "Processing data in Jul, 2021\n",
      "|         2022         |\n",
      "Processing data in Jul, 2022\n"
     ]
    }
   ],
   "source": [
    "for region in regions:\n",
    "    print(f'==========={region}===========')\n",
    "    for year in years:\n",
    "        print(f'|         {year}         |')\n",
    "        write_to_excel(year,month,level,region,mcip_vars,chem_vars,\n",
    "                       case='Seasonally')"
   ]
  },
  {
   "cell_type": "markdown",
   "metadata": {},
   "source": [
    "## 观测数据"
   ]
  },
  {
   "cell_type": "code",
   "execution_count": 5,
   "metadata": {},
   "outputs": [],
   "source": [
    "years   = [2019,2021,2022]\n",
    "month   = 'Jul'\n",
    "city_list = ['肇庆', '惠州', '广州', '佛山',\n",
    "             '东莞', '深圳', '中山', '江门',\n",
    "             '珠海']\n",
    "city_list_en = ['Zhaoqing','Huizhou','Guangzhou','Foshan',\n",
    "                'Dongguan','Shenzhen','Zhongshan','Jiangmen',\n",
    "                'Zhuhai']\n",
    "varlist = ['O3','NO2','PM2.5']"
   ]
  },
  {
   "cell_type": "code",
   "execution_count": 6,
   "metadata": {},
   "outputs": [
    {
     "name": "stdout",
     "output_type": "stream",
     "text": [
      "===========肇庆===========\n",
      "|           2019           |\n",
      "Processing data in Jul, 2019\n",
      "Complete O3\n",
      "Complete NO2\n",
      "Complete PM2.5\n",
      "|           2021           |\n",
      "Processing data in Jul, 2021\n",
      "Complete O3\n",
      "Complete NO2\n",
      "Complete PM2.5\n",
      "|           2022           |\n",
      "Processing data in Jul, 2022\n",
      "Complete O3\n",
      "Complete NO2\n",
      "Complete PM2.5\n",
      "===========惠州===========\n",
      "|           2019           |\n",
      "Processing data in Jul, 2019\n",
      "Complete O3\n",
      "Complete NO2\n",
      "Complete PM2.5\n",
      "|           2021           |\n",
      "Processing data in Jul, 2021\n",
      "Complete O3\n",
      "Complete NO2\n",
      "Complete PM2.5\n",
      "|           2022           |\n",
      "Processing data in Jul, 2022\n",
      "Complete O3\n",
      "Complete NO2\n",
      "Complete PM2.5\n",
      "===========广州===========\n",
      "|           2019           |\n",
      "Processing data in Jul, 2019\n",
      "Complete O3\n",
      "Complete NO2\n",
      "Complete PM2.5\n",
      "|           2021           |\n",
      "Processing data in Jul, 2021\n",
      "Complete O3\n",
      "Complete NO2\n",
      "Complete PM2.5\n",
      "|           2022           |\n",
      "Processing data in Jul, 2022\n",
      "Complete O3\n",
      "Complete NO2\n",
      "Complete PM2.5\n",
      "===========佛山===========\n",
      "|           2019           |\n",
      "Processing data in Jul, 2019\n",
      "Complete O3\n",
      "Complete NO2\n",
      "Complete PM2.5\n",
      "|           2021           |\n",
      "Processing data in Jul, 2021\n",
      "Complete O3\n",
      "Complete NO2\n",
      "Complete PM2.5\n",
      "|           2022           |\n",
      "Processing data in Jul, 2022\n",
      "Complete O3\n",
      "Complete NO2\n",
      "Complete PM2.5\n",
      "===========东莞===========\n",
      "|           2019           |\n",
      "Processing data in Jul, 2019\n",
      "Complete O3\n",
      "Complete NO2\n",
      "Complete PM2.5\n",
      "|           2021           |\n",
      "Processing data in Jul, 2021\n",
      "Complete O3\n",
      "Complete NO2\n",
      "Complete PM2.5\n",
      "|           2022           |\n",
      "Processing data in Jul, 2022\n",
      "Complete O3\n",
      "Complete NO2\n",
      "Complete PM2.5\n",
      "===========深圳===========\n",
      "|           2019           |\n",
      "Processing data in Jul, 2019\n",
      "Complete O3\n",
      "Complete NO2\n",
      "Complete PM2.5\n",
      "|           2021           |\n",
      "Processing data in Jul, 2021\n",
      "Complete O3\n",
      "Complete NO2\n",
      "Complete PM2.5\n",
      "|           2022           |\n",
      "Processing data in Jul, 2022\n",
      "Complete O3\n",
      "Complete NO2\n",
      "Complete PM2.5\n",
      "===========中山===========\n",
      "|           2019           |\n",
      "Processing data in Jul, 2019\n",
      "Complete O3\n",
      "Complete NO2\n",
      "Complete PM2.5\n",
      "|           2021           |\n",
      "Processing data in Jul, 2021\n",
      "Complete O3\n",
      "Complete NO2\n",
      "Complete PM2.5\n",
      "|           2022           |\n",
      "Processing data in Jul, 2022\n",
      "Complete O3\n",
      "Complete NO2\n",
      "Complete PM2.5\n",
      "===========江门===========\n",
      "|           2019           |\n",
      "Processing data in Jul, 2019\n",
      "Complete O3\n",
      "Complete NO2\n",
      "Complete PM2.5\n",
      "|           2021           |\n",
      "Processing data in Jul, 2021\n",
      "Complete O3\n",
      "Complete NO2\n",
      "Complete PM2.5\n",
      "|           2022           |\n",
      "Processing data in Jul, 2022\n",
      "Complete O3\n",
      "Complete NO2\n",
      "Complete PM2.5\n",
      "===========珠海===========\n",
      "|           2019           |\n",
      "Processing data in Jul, 2019\n",
      "Complete O3\n",
      "Complete NO2\n",
      "Complete PM2.5\n",
      "|           2021           |\n",
      "Processing data in Jul, 2021\n",
      "Complete O3\n",
      "Complete NO2\n",
      "Complete PM2.5\n",
      "|           2022           |\n",
      "Processing data in Jul, 2022\n",
      "Complete O3\n",
      "Complete NO2\n",
      "Complete PM2.5\n"
     ]
    }
   ],
   "source": [
    "for city, city_en in zip(city_list,city_list_en):\n",
    "    print(f'==========={city}===========')\n",
    "    for year in years:\n",
    "        print(f'|           {year}           |')\n",
    "        write_obs_to_excel(year,month,city,city_en,varlist,\n",
    "                           case='Seasonally')"
   ]
  }
 ],
 "metadata": {
  "kernelspec": {
   "display_name": "base",
   "language": "python",
   "name": "python3"
  },
  "language_info": {
   "codemirror_mode": {
    "name": "ipython",
    "version": 3
   },
   "file_extension": ".py",
   "mimetype": "text/x-python",
   "name": "python",
   "nbconvert_exporter": "python",
   "pygments_lexer": "ipython3",
   "version": "3.10.12"
  }
 },
 "nbformat": 4,
 "nbformat_minor": 2
}
