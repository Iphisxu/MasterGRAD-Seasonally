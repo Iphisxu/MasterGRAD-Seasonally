{
 "cells": [
  {
   "cell_type": "markdown",
   "metadata": {},
   "source": [
    "# 毕业论文`GRAD`\n",
    "## 建立多元线性回归模型，定量评估影响\n",
    "\n",
    "*`Evan`*\\\n",
    "*`2023-11-16`*\n",
    "---"
   ]
  },
  {
   "cell_type": "code",
   "execution_count": 1,
   "metadata": {},
   "outputs": [],
   "source": [
    "import numpy as np\n",
    "import pandas as pd\n",
    "\n",
    "import sys\n",
    "sys.path.append('../../src/')\n",
    "from namelist import *\n",
    "from RandomForest import read_data, rf_importance\n",
    "\n",
    "# silence the warning note\n",
    "import warnings\n",
    "warnings.filterwarnings(\"ignore\")"
   ]
  },
  {
   "cell_type": "code",
   "execution_count": 2,
   "metadata": {},
   "outputs": [],
   "source": [
    "lowyears  = [2014,2015,2016]\n",
    "highyears = [2019,2021,2022]\n",
    "month     = 'Sep'\n",
    "regions   = ['Zhaoqing','Huizhou','Guangzhou','Foshan',\n",
    "             'Dongguan','Shenzhen','Zhongshan','Jiangmen',\n",
    "             'Zhuhai']\n",
    "datapath  = datadir + 'Contribution/data/'\n",
    "\n",
    "# 设置变量列表和目标变量\n",
    "variants = ['SFC_TMP', 'SOL_RAD', 'RH', 'PRES', \n",
    "            'WSPD10', 'WDIR10','CloudFRAC',]\n",
    "            # 'NO2', 'VOC', 'PM25', 'ISOP'] # 'PBLH',\n",
    "target = 'O3'"
   ]
  },
  {
   "cell_type": "markdown",
   "metadata": {},
   "source": [
    "# 白天"
   ]
  },
  {
   "cell_type": "code",
   "execution_count": 3,
   "metadata": {},
   "outputs": [
    {
     "name": "stdout",
     "output_type": "stream",
     "text": [
      "Zhaoqing\n",
      "Huizhou\n",
      "Guangzhou\n",
      "Foshan\n",
      "Dongguan\n",
      "Shenzhen\n",
      "Zhongshan\n",
      "Jiangmen\n",
      "Zhuhai\n"
     ]
    }
   ],
   "source": [
    "for region in regions:\n",
    "    print(f'{region}')\n",
    "    \n",
    "    df_low  = read_data(lowyears,month,region,datapath)\n",
    "    df_high = read_data(highyears,month,region,datapath)\n",
    "\n",
    "    day_low  = df_low.between_time('8:00','17:00')\n",
    "    day_high = df_high.between_time('8:00','17:00')\n",
    "\n",
    "    low_importance = rf_importance(day_low,variants,target)\n",
    "    high_importance = rf_importance(day_high,variants,target)\n",
    "\n",
    "    day_low = day_low.reset_index()\n",
    "    day_low.drop(columns=['index'],inplace=True)\n",
    "    day_high = day_high.reset_index()\n",
    "    day_high.drop(columns=['index'],inplace=True)\n",
    "\n",
    "    day_diff = day_high - day_low\n",
    "    diff_importance = rf_importance(day_diff,variants,target)\n",
    "    \n",
    "    # 合并两组结果，对列重命名\n",
    "    dfoutput = pd.concat([low_importance,high_importance,diff_importance],axis=1)\n",
    "    dfoutput.columns=['Low','High','Diff']\n",
    "\n",
    "    filepath = 'D:/data/Graduation/Contribution/RandomForest_output/TMP/'\n",
    "    filename = f'RF_{region}_day.xlsx'\n",
    "    dfoutput.to_excel(filepath + filename,index=True)"
   ]
  },
  {
   "cell_type": "markdown",
   "metadata": {},
   "source": [
    "读取输出数据，整合到一张表中"
   ]
  },
  {
   "cell_type": "code",
   "execution_count": 4,
   "metadata": {},
   "outputs": [],
   "source": [
    "infilepath = 'D:/data/Graduation/Contribution/RandomForest_output/TMP/'\n",
    "outfilepath = 'D:/data/Graduation/Contribution/RandomForest_output/'\n",
    "\n",
    "writer = pd.ExcelWriter(outfilepath + 'RF_cities_day.xlsx', engine='xlsxwriter')\n",
    "for region in regions:\n",
    "    df = pd.read_excel(infilepath + f'RF_{region}_day.xlsx',index_col=0)\n",
    "    sheet_name = region\n",
    "    df.to_excel(writer, sheet_name=sheet_name,index=True)\n",
    "writer.close()"
   ]
  },
  {
   "cell_type": "markdown",
   "metadata": {},
   "source": [
    "# 夜间"
   ]
  },
  {
   "cell_type": "code",
   "execution_count": 7,
   "metadata": {},
   "outputs": [
    {
     "name": "stdout",
     "output_type": "stream",
     "text": [
      "Zhaoqing\n",
      "Huizhou\n",
      "Guangzhou\n",
      "Foshan\n",
      "Dongguan\n",
      "Shenzhen\n",
      "Zhongshan\n",
      "Jiangmen\n",
      "Zhuhai\n"
     ]
    }
   ],
   "source": [
    "for region in regions:\n",
    "    print(f'{region}')\n",
    "    \n",
    "    df_low  = read_data(lowyears,month,region,datapath)\n",
    "    df_high = read_data(highyears,month,region,datapath)\n",
    "\n",
    "    night_low  = df_low.between_time('18:00','7:00')\n",
    "    night_high = df_high.between_time('18:00','7:00')\n",
    "\n",
    "    low_importance = rf_importance(night_low,variants,target)\n",
    "    high_importance = rf_importance(night_high,variants,target)\n",
    "\n",
    "    night_low = night_low.reset_index()\n",
    "    night_low.drop(columns=['index'],inplace=True)\n",
    "    night_high = night_high.reset_index()\n",
    "    night_high.drop(columns=['index'],inplace=True)\n",
    "\n",
    "    night_diff = night_high - night_low\n",
    "    diff_importance = rf_importance(night_diff,variants,target)\n",
    "    \n",
    "    # 合并两组结果，对列重命名\n",
    "    dfoutput = pd.concat([low_importance,high_importance,diff_importance],axis=1)\n",
    "    dfoutput.columns=['Low','High','Diff']\n",
    "\n",
    "    filepath = 'D:/data/Graduation/Contribution/RandomForest_output/TMP/'\n",
    "    filename = f'RF_{region}_night.xlsx'\n",
    "    dfoutput.to_excel(filepath + filename,index=True)"
   ]
  },
  {
   "cell_type": "code",
   "execution_count": 8,
   "metadata": {},
   "outputs": [],
   "source": [
    "infilepath = 'D:/data/Graduation/Contribution/RandomForest_output/TMP/'\n",
    "outfilepath = 'D:/data/Graduation/Contribution/RandomForest_output/'\n",
    "\n",
    "writer = pd.ExcelWriter(outfilepath + 'RF_cities_night.xlsx', engine='xlsxwriter')\n",
    "for region in regions:\n",
    "    df = pd.read_excel(infilepath + f'RF_{region}_night.xlsx',index_col=0)\n",
    "    sheet_name = region\n",
    "    df.to_excel(writer, sheet_name=sheet_name,index=True)\n",
    "writer.close()"
   ]
  }
 ],
 "metadata": {
  "kernelspec": {
   "display_name": "base",
   "language": "python",
   "name": "python3"
  },
  "language_info": {
   "codemirror_mode": {
    "name": "ipython",
    "version": 3
   },
   "file_extension": ".py",
   "mimetype": "text/x-python",
   "name": "python",
   "nbconvert_exporter": "python",
   "pygments_lexer": "ipython3",
   "version": "3.10.12"
  }
 },
 "nbformat": 4,
 "nbformat_minor": 2
}
