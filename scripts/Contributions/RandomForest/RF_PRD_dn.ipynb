{
 "cells": [
  {
   "cell_type": "markdown",
   "metadata": {},
   "source": [
    "# 毕业论文`GRAD`\n",
    "## 建立多元线性回归模型，定量评估影响\n",
    "\n",
    "*`Evan`*\\\n",
    "*`2023-11-16`*\n",
    "---"
   ]
  },
  {
   "cell_type": "code",
   "execution_count": 1,
   "metadata": {},
   "outputs": [],
   "source": [
    "import numpy as np\n",
    "import pandas as pd\n",
    "\n",
    "import sys\n",
    "sys.path.append('../../src/')\n",
    "from namelist import *\n",
    "from RandomForest import read_data, rf_importance\n",
    "\n",
    "# silence the warning note\n",
    "import warnings\n",
    "warnings.filterwarnings(\"ignore\")"
   ]
  },
  {
   "cell_type": "markdown",
   "metadata": {},
   "source": [
    "## 读取数据：将三年数据拼接"
   ]
  },
  {
   "cell_type": "code",
   "execution_count": 2,
   "metadata": {},
   "outputs": [],
   "source": [
    "lowyears  = [2014,2015,2016]\n",
    "highyears = [2019,2021,2022]\n",
    "month     = 'Sep'\n",
    "region    = 'PRD'\n",
    "datapath  = datadir + 'Contribution/data/'\n",
    "\n",
    "df_low  = read_data(lowyears,month,region,datapath)\n",
    "df_high = read_data(highyears,month,region,datapath)\n"
   ]
  },
  {
   "cell_type": "code",
   "execution_count": 3,
   "metadata": {},
   "outputs": [
    {
     "data": {
      "text/plain": [
       "0     90\n",
       "1     90\n",
       "2     90\n",
       "3     90\n",
       "4     90\n",
       "5     90\n",
       "6     90\n",
       "7     90\n",
       "19    90\n",
       "20    90\n",
       "21    90\n",
       "22    90\n",
       "23    90\n",
       "18    44\n",
       "dtype: int64"
      ]
     },
     "execution_count": 3,
     "metadata": {},
     "output_type": "execute_result"
    }
   ],
   "source": [
    "df_low[df_low['SOL_RAD']<100].index.hour.value_counts()"
   ]
  },
  {
   "cell_type": "markdown",
   "metadata": {},
   "source": [
    "# 保留白天时刻，去除夜间时刻"
   ]
  },
  {
   "cell_type": "code",
   "execution_count": 4,
   "metadata": {},
   "outputs": [],
   "source": [
    "day_low  = df_low.between_time('8:00','17:00')\n",
    "day_high = df_high.between_time('8:00','17:00')"
   ]
  },
  {
   "cell_type": "markdown",
   "metadata": {},
   "source": [
    "## 建立模型"
   ]
  },
  {
   "cell_type": "code",
   "execution_count": 5,
   "metadata": {},
   "outputs": [],
   "source": [
    "# 设置变量列表和目标变量\n",
    "variants = ['SFC_TMP', 'SOL_RAD', 'RH', 'PRES', \n",
    "            'WSPD10', 'WDIR10','CloudFRAC',]\n",
    "            # 'NO2', 'VOC', 'PM25', 'ISOP'] # 'PBLH',\n",
    "target = 'O3'\n",
    "\n",
    "low_importance = rf_importance(day_low,variants,target)\n",
    "high_importance = rf_importance(day_high,variants,target)"
   ]
  },
  {
   "cell_type": "code",
   "execution_count": 6,
   "metadata": {},
   "outputs": [],
   "source": [
    "day_low = day_low.reset_index()\n",
    "day_low.drop(columns=['index'],inplace=True)\n",
    "day_high = day_high.reset_index()\n",
    "day_high.drop(columns=['index'],inplace=True)\n",
    "\n",
    "day_diff = day_high - day_low\n",
    "\n",
    "diff_importance = rf_importance(day_diff,variants,target)\n"
   ]
  },
  {
   "cell_type": "markdown",
   "metadata": {},
   "source": [
    "## 输出结果"
   ]
  },
  {
   "cell_type": "code",
   "execution_count": 7,
   "metadata": {},
   "outputs": [],
   "source": [
    "# 合并两组结果，对列重命名\n",
    "dfoutput = pd.concat([low_importance,high_importance,diff_importance],axis=1)\n",
    "dfoutput.columns=['Low','High','Diff']\n",
    "\n",
    "# randomforest_concatinate_PRDaveraged\n",
    "filepath = 'D:/data/Graduation/Contribution/RandomForest_output/'\n",
    "filename = f'RF_{region}_day.xlsx'\n",
    "dfoutput.to_excel(filepath + filename,index=True)"
   ]
  },
  {
   "cell_type": "markdown",
   "metadata": {},
   "source": [
    "# 保留夜间时刻，去除白天时刻"
   ]
  },
  {
   "cell_type": "code",
   "execution_count": 8,
   "metadata": {},
   "outputs": [],
   "source": [
    "night_low  = df_low.between_time('18:00','7:00')\n",
    "night_high = df_high.between_time('18:00','7:00')"
   ]
  },
  {
   "cell_type": "code",
   "execution_count": 12,
   "metadata": {},
   "outputs": [],
   "source": [
    "# 设置变量列表和目标变量\n",
    "variants = ['SFC_TMP', 'SOL_RAD', 'RH', 'PRES', \n",
    "            'WSPD10', 'WDIR10','CloudFRAC',]\n",
    "            # 'NO2', 'VOC', 'PM25', 'ISOP'] # 'PBLH',\n",
    "target = 'O3'\n",
    "\n",
    "low_importance = rf_importance(night_low,variants,target)\n",
    "high_importance = rf_importance(night_high,variants,target)\n"
   ]
  },
  {
   "cell_type": "code",
   "execution_count": 13,
   "metadata": {},
   "outputs": [],
   "source": [
    "night_low = night_low.reset_index()\n",
    "night_low.drop(columns=['index'],inplace=True)\n",
    "night_high = night_high.reset_index()\n",
    "night_high.drop(columns=['index'],inplace=True)\n",
    "\n",
    "night_diff = night_high - night_low\n",
    "\n",
    "diff_importance = rf_importance(night_diff,variants,target)\n"
   ]
  },
  {
   "cell_type": "code",
   "execution_count": 14,
   "metadata": {},
   "outputs": [],
   "source": [
    "# 合并两组结果，对列重命名\n",
    "dfoutput = pd.concat([low_importance,high_importance,diff_importance],axis=1)\n",
    "dfoutput.columns=['Low','High','Diff']\n",
    "\n",
    "# randomforest_concatinate_PRDaveraged\n",
    "filepath = 'D:/data/Graduation/Contribution/RandomForest_output/'\n",
    "filename = f'RF_{region}_night.xlsx'\n",
    "dfoutput.to_excel(filepath + filename,index=True)"
   ]
  }
 ],
 "metadata": {
  "kernelspec": {
   "display_name": "base",
   "language": "python",
   "name": "python3"
  },
  "language_info": {
   "codemirror_mode": {
    "name": "ipython",
    "version": 3
   },
   "file_extension": ".py",
   "mimetype": "text/x-python",
   "name": "python",
   "nbconvert_exporter": "python",
   "pygments_lexer": "ipython3",
   "version": "3.10.12"
  }
 },
 "nbformat": 4,
 "nbformat_minor": 2
}
