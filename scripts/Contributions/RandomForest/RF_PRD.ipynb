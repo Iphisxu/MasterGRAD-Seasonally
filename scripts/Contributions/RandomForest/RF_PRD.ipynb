{
 "cells": [
  {
   "cell_type": "markdown",
   "metadata": {},
   "source": [
    "# 毕业论文`GRAD`\n",
    "## 建立多元线性回归模型，定量评估影响\n",
    "\n",
    "*`Evan`*\\\n",
    "*`2023-11-16`*\n",
    "---"
   ]
  },
  {
   "cell_type": "code",
   "execution_count": 4,
   "metadata": {},
   "outputs": [],
   "source": [
    "import numpy as np\n",
    "import pandas as pd\n",
    "\n",
    "import sys\n",
    "sys.path.append('../../../src/')\n",
    "from namelist import *\n",
    "from RandomForest import read_data, rf_importance\n",
    "\n",
    "# silence the warning note\n",
    "import warnings\n",
    "warnings.filterwarnings(\"ignore\")"
   ]
  },
  {
   "cell_type": "code",
   "execution_count": 5,
   "metadata": {},
   "outputs": [],
   "source": [
    "lowyears  = [2014,2015,2016]\n",
    "highyears = [2019,2021,2022]\n",
    "month     = 'Sep'\n",
    "region    = 'PRD'\n",
    "datapath  = datadir + 'Contribution/data/'\n",
    "\n",
    "df_low  = read_data(lowyears,month,region,datapath)\n",
    "df_high = read_data(highyears,month,region,datapath)\n"
   ]
  },
  {
   "cell_type": "code",
   "execution_count": 6,
   "metadata": {},
   "outputs": [],
   "source": [
    "# 设置变量列表和目标变量\n",
    "variants = ['SFC_TMP', 'SOL_RAD', 'QV', 'PRES', \n",
    "            'WSPD10', 'WDIR10','CloudFRAC',]\n",
    "            # 'NO2', 'VOC', 'PM25', 'ISOP'] # 'PBLH',\n",
    "target = 'O3'\n",
    "\n",
    "low_importance = rf_importance(df_low,variants,target)\n",
    "high_importance = rf_importance(df_high,variants,target)"
   ]
  },
  {
   "cell_type": "code",
   "execution_count": 7,
   "metadata": {},
   "outputs": [],
   "source": [
    "df_low = df_low.reset_index()\n",
    "df_low.drop(columns=['index'],inplace=True)\n",
    "df_high = df_high.reset_index()\n",
    "df_high.drop(columns=['index'],inplace=True)\n",
    "\n",
    "df_diff = df_high - df_low\n",
    "\n",
    "diff_importance = rf_importance(df_diff,variants,target)\n"
   ]
  },
  {
   "cell_type": "code",
   "execution_count": 8,
   "metadata": {},
   "outputs": [],
   "source": [
    "# 合并两组结果，对列重命名\n",
    "dfoutput = pd.concat([low_importance,high_importance,diff_importance],axis=1)\n",
    "dfoutput.columns=['Low','High','Diff']\n",
    "\n",
    "# randomforest_concatinate_PRDaveraged\n",
    "filepath = 'D:/data/Graduation/Contribution/RandomForest_output/RH_to_QV/'\n",
    "filename = f'RF_{region}.xlsx'\n",
    "dfoutput.to_excel(filepath + filename,index=True)"
   ]
  }
 ],
 "metadata": {
  "kernelspec": {
   "display_name": "base",
   "language": "python",
   "name": "python3"
  },
  "language_info": {
   "codemirror_mode": {
    "name": "ipython",
    "version": 3
   },
   "file_extension": ".py",
   "mimetype": "text/x-python",
   "name": "python",
   "nbconvert_exporter": "python",
   "pygments_lexer": "ipython3",
   "version": "3.10.12"
  }
 },
 "nbformat": 4,
 "nbformat_minor": 2
}
