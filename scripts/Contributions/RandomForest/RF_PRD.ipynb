{
 "cells": [
  {
   "cell_type": "markdown",
   "metadata": {},
   "source": [
    "# 毕业论文`GRAD`\n",
    "## 建立多元线性回归模型，定量评估影响\n",
    "\n",
    "*`Evan`*\\\n",
    "*`2023-12-21`*\n",
    "---"
   ]
  },
  {
   "cell_type": "code",
   "execution_count": 2,
   "metadata": {},
   "outputs": [],
   "source": [
    "import numpy as np\n",
    "import pandas as pd\n",
    "\n",
    "import sys\n",
    "sys.path.append('../../../src/')\n",
    "from namelist import *\n",
    "from RandomForest import read_data, rf_importance\n",
    "\n",
    "# silence the warning note\n",
    "import warnings\n",
    "warnings.filterwarnings(\"ignore\")"
   ]
  },
  {
   "cell_type": "code",
   "execution_count": 3,
   "metadata": {},
   "outputs": [],
   "source": [
    "years = [2019,2021,2022]\n",
    "region    = 'PRD'\n",
    "datapath  = datadir + 'Contribution/Seasonally/data/'\n",
    "\n",
    "df_summer = read_data(years,'Jul',region,datapath)\n",
    "df_autumn = read_data(years,'Sep',region,datapath)"
   ]
  },
  {
   "cell_type": "code",
   "execution_count": 4,
   "metadata": {},
   "outputs": [],
   "source": [
    "# 设置变量列表和目标变量\n",
    "variants = ['SFC_TMP', 'SOL_RAD', 'QV', 'PRES', \n",
    "            'WSPD10', 'WDIR10','CloudFRAC',]\n",
    "            # 'NO2', 'VOC', 'PM25', 'ISOP'] # 'PBLH',\n",
    "target = 'O3'\n",
    "\n",
    "summer_importance = rf_importance(df_summer,variants,target)\n",
    "autumn_importance = rf_importance(df_autumn,variants,target)"
   ]
  },
  {
   "cell_type": "code",
   "execution_count": 7,
   "metadata": {},
   "outputs": [],
   "source": [
    "df_summer = df_summer.reset_index()\n",
    "df_summer.drop(columns=['index'],inplace=True)\n",
    "df_autumn = df_autumn.reset_index()\n",
    "df_autumn.drop(columns=['index'],inplace=True)\n",
    "\n",
    "df_diff = df_autumn - df_summer\n",
    "# 夏季减秋季，需要删去多余的行(多了一天)\n",
    "df_diff.dropna(how='all', inplace=True)\n",
    "\n",
    "diff_importance = rf_importance(df_diff,variants,target)\n"
   ]
  },
  {
   "cell_type": "code",
   "execution_count": 8,
   "metadata": {},
   "outputs": [],
   "source": [
    "# 合并两组结果，对列重命名\n",
    "dfoutput = pd.concat([summer_importance,autumn_importance,diff_importance],axis=1)\n",
    "dfoutput.columns=['summer','autumn','Diff']\n",
    "\n",
    "# randomforest_concatinate_PRDaveraged\n",
    "filepath = 'D:/data/Graduation/Contribution/Seasonally/RandomForest_output/'\n",
    "filename = f'RF_{region}.xlsx'\n",
    "dfoutput.to_excel(filepath + filename,index=True)"
   ]
  }
 ],
 "metadata": {
  "kernelspec": {
   "display_name": "base",
   "language": "python",
   "name": "python3"
  },
  "language_info": {
   "codemirror_mode": {
    "name": "ipython",
    "version": 3
   },
   "file_extension": ".py",
   "mimetype": "text/x-python",
   "name": "python",
   "nbconvert_exporter": "python",
   "pygments_lexer": "ipython3",
   "version": "3.10.12"
  }
 },
 "nbformat": 4,
 "nbformat_minor": 2
}
