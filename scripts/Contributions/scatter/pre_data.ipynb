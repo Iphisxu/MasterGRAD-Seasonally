{
 "cells": [
  {
   "cell_type": "markdown",
   "metadata": {},
   "source": [
    "# 将netcdf数据导出到excel方便后续计算"
   ]
  },
  {
   "cell_type": "code",
   "execution_count": 4,
   "metadata": {},
   "outputs": [],
   "source": [
    "import numpy as np\n",
    "import xarray as xr\n",
    "import pandas as pd\n",
    "import geopandas as gpd\n",
    "from tqdm import tqdm\n",
    "\n",
    "import sys\n",
    "sys.path.append('../../../src/')\n",
    "from namelist import *\n",
    "from mask import polygon_to_mask\n",
    "\n",
    "# silence the warning note\n",
    "import warnings\n",
    "warnings.filterwarnings(\"ignore\")"
   ]
  },
  {
   "cell_type": "code",
   "execution_count": 5,
   "metadata": {},
   "outputs": [
    {
     "name": "stderr",
     "output_type": "stream",
     "text": [
      "100%|██████████| 3/3 [00:24<00:00,  8.04s/it]\n"
     ]
    }
   ],
   "source": [
    "years = np.array([2019,2021,2022])\n",
    "\n",
    "summer = {}\n",
    "autumn = {}\n",
    "sensit = {}\n",
    "\n",
    "for year in tqdm(years):\n",
    "    # Simulation\n",
    "    ds_summer = xr.open_dataset(processed_dir + f\"Jul_{year}/Jul_{year}_chem.nc\")\n",
    "    ds_autumn = xr.open_dataset(processed_dir + f\"Sep_{year}/Sep_{year}_chem.nc\")\n",
    "    ds_sensit = xr.open_dataset(processed_dir + f\"Seasonally_{year}/Sep_{year}_chem.nc\")\n",
    "    \n",
    "    summer_data = ds_summer['O3'][:,0,:,:]\n",
    "    autumn_data = ds_autumn['O3'][:,0,:,:]\n",
    "    sensit_data = ds_sensit['O3'][:,0,:,:]\n",
    "    \n",
    "    lon = summer_data.longitude\n",
    "    lat = summer_data.latitude\n",
    "    shp = gpd.read_file(shp_files['PRD_adm'])\n",
    "    mask = polygon_to_mask(shp.geometry[0], lon, lat)\n",
    "    mask_da = xr.DataArray(mask, dims=('y', 'x'))\n",
    "    masked_summer = summer_data.where(mask_da)\n",
    "    masked_autumn = autumn_data.where(mask_da)\n",
    "    masked_sensit = sensit_data.where(mask_da)\n",
    "    \n",
    "    sim_summer = masked_summer.mean(dim=('x','y'),skipna=True)\n",
    "    sim_autumn = masked_autumn.mean(dim=('x','y'),skipna=True)\n",
    "    sim_sensit = masked_sensit.mean(dim=('x','y'),skipna=True)\n",
    "    \n",
    "    summer[f'sim_{year}'] = sim_summer.values\n",
    "    autumn[f'sim_{year}'] = sim_autumn.values\n",
    "    sensit[f'sim_{year}'] = sim_sensit.values\n",
    "    \n",
    "    # Observation\n",
    "    obspath = get_obspath('Jul')\n",
    "    df_summer = pd.read_excel(obspath + f'site_O3_{year}.xlsx',index_col=0)\n",
    "    obspath = get_obspath('Sep')\n",
    "    df_autumn = pd.read_excel(obspath + f'site_O3_{year}.xlsx',index_col=0)\n",
    "    obs_summer = df_summer.mean(axis=1,skipna=True)\n",
    "    obs_autumn = df_autumn.mean(axis=1,skipna=True)\n",
    "    \n",
    "    summer[f'obs_{year}'] = obs_summer.values\n",
    "    autumn[f'obs_{year}'] = obs_autumn.values"
   ]
  },
  {
   "cell_type": "code",
   "execution_count": 21,
   "metadata": {},
   "outputs": [],
   "source": [
    "df_summer = pd.DataFrame(\n",
    "    summer,\n",
    "    columns=['sim_2019', 'obs_2019', 'sim_2021', 'obs_2021', 'sim_2022', 'obs_2022'],\n",
    "    index = pd.date_range('2023-07-01T00','2023-07-31T23',freq='H'),\n",
    ")\n",
    "df_autumn = pd.DataFrame(\n",
    "    autumn,\n",
    "    columns=['sim_2019', 'obs_2019', 'sim_2021', 'obs_2021', 'sim_2022', 'obs_2022'],\n",
    "    index = pd.date_range('2023-09-01T00','2023-09-30T23',freq='H'),\n",
    ")\n",
    "df_sensit = pd.DataFrame(\n",
    "    sensit,\n",
    "    columns=['sim_2019', 'sim_2021', 'sim_2022'],\n",
    "    index = pd.date_range('2023-09-01T00','2023-09-30T23',freq='H'),\n",
    ")"
   ]
  },
  {
   "cell_type": "code",
   "execution_count": 23,
   "metadata": {},
   "outputs": [],
   "source": [
    "outpath = 'D:/data/Graduation/Contribution/contribution_hours_Seasonally/'\n",
    "df_summer.to_excel(outpath + 'summer.xlsx',index=True)\n",
    "df_autumn.to_excel(outpath + 'autumn.xlsx',index=True)\n",
    "df_sensit.to_excel(outpath + 'sensit.xlsx',index=True)"
   ]
  }
 ],
 "metadata": {
  "kernelspec": {
   "display_name": "base",
   "language": "python",
   "name": "python3"
  },
  "language_info": {
   "codemirror_mode": {
    "name": "ipython",
    "version": 3
   },
   "file_extension": ".py",
   "mimetype": "text/x-python",
   "name": "python",
   "nbconvert_exporter": "python",
   "pygments_lexer": "ipython3",
   "version": "3.10.12"
  }
 },
 "nbformat": 4,
 "nbformat_minor": 2
}
