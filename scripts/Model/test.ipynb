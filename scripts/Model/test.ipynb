{
 "cells": [
  {
   "cell_type": "markdown",
   "metadata": {},
   "source": [
    "# 比较排放源文件是否制作成功\n",
    "\n",
    "---\n",
    "*@author: Evan*\\\n",
    "*@date: 2023-12-10*"
   ]
  },
  {
   "cell_type": "code",
   "execution_count": 1,
   "metadata": {},
   "outputs": [],
   "source": [
    "import xarray as xr\n",
    "import numpy as np"
   ]
  },
  {
   "cell_type": "code",
   "execution_count": 3,
   "metadata": {},
   "outputs": [],
   "source": [
    "datapath = 'D:/Download/'\n",
    "original_emis = xr.open_dataset(datapath + 'emis.CN3GD_152X110_original.ncf')\n",
    "modified_emis = xr.open_dataset(datapath + 'emis.CN3GD_152X110.ncf')"
   ]
  },
  {
   "cell_type": "code",
   "execution_count": 6,
   "metadata": {},
   "outputs": [],
   "source": [
    "NO_ori = original_emis.NO.values\n",
    "NO_mod = modified_emis.NO.values"
   ]
  },
  {
   "cell_type": "code",
   "execution_count": 9,
   "metadata": {},
   "outputs": [
    {
     "name": "stdout",
     "output_type": "stream",
     "text": [
      "original file and modified file are equal.\n"
     ]
    }
   ],
   "source": [
    "if_equal = np.array_equal(NO_ori, NO_mod)\n",
    "if if_equal:\n",
    "    print('original file and modified file are equal.')\n",
    "else:\n",
    "    print('original file and modified file are not equal.')"
   ]
  },
  {
   "cell_type": "code",
   "execution_count": 11,
   "metadata": {},
   "outputs": [
    {
     "name": "stdout",
     "output_type": "stream",
     "text": [
      "original file and modified file are equal.\n"
     ]
    }
   ],
   "source": [
    "PMC_ori = original_emis.PMC.values\n",
    "PMC_mod = modified_emis.PMC.values\n",
    "\n",
    "if_equal = np.array_equal(PMC_ori, PMC_mod)\n",
    "if if_equal:\n",
    "    print('original file and modified file are equal.')\n",
    "else:\n",
    "    print('original file and modified file are not equal.')"
   ]
  }
 ],
 "metadata": {
  "kernelspec": {
   "display_name": "base",
   "language": "python",
   "name": "python3"
  },
  "language_info": {
   "codemirror_mode": {
    "name": "ipython",
    "version": 3
   },
   "file_extension": ".py",
   "mimetype": "text/x-python",
   "name": "python",
   "nbconvert_exporter": "python",
   "pygments_lexer": "ipython3",
   "version": "3.10.12"
  }
 },
 "nbformat": 4,
 "nbformat_minor": 2
}
